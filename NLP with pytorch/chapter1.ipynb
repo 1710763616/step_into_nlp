{
 "cells": [
  {
   "cell_type": "markdown",
   "metadata": {},
   "source": [
    "TF Representation  \n",
    "- the sum of the one-hot representations of its constituent words  \n",
    "IDF\n",
    "- $IDF(w) = \\log\\frac{N}{n_w} $ $n_w$  is the number of documents containing w, and N is the total number of documents"
   ]
  },
  {
   "cell_type": "code",
   "execution_count": 6,
   "metadata": {},
   "outputs": [
    {
     "data": {
      "text/plain": [
       "<matplotlib.axes._subplots.AxesSubplot at 0x21755248a60>"
      ]
     },
     "execution_count": 6,
     "metadata": {},
     "output_type": "execute_result"
    },
    {
     "data": {
      "image/png": "[encoded data removed]",
      "text/plain": [
       "<Figure size 432x288 with 1 Axes>"
      ]
     },
     "metadata": {
      "needs_background": "light"
     },
     "output_type": "display_data"
    }
   ],
   "source": [
    "from sklearn.feature_extraction.text import CountVectorizer\n",
    "import seaborn as sns\n",
    "\n",
    "\n",
    "corpus = ['Time flies flies like an arrow','Fruit flies like a banana']\n",
    "\n",
    "one_hot_vectorizer = CountVectorizer(binary=True)\n",
    "\n",
    "one_hot = one_hot_vectorizer.fit_transform(corpus).toarray()\n",
    "sns.heatmap(one_hot,annot = True,cbar = False, xticklabels = 'vocab', yticklabels=['Sentence 1','Sentence 2'])"
   ]
  },
  {
   "cell_type": "code",
   "execution_count": 5,
   "metadata": {},
   "outputs": [
    {
     "data": {
      "text/plain": [
       "<matplotlib.axes._subplots.AxesSubplot at 0x217551ee3a0>"
      ]
     },
     "execution_count": 5,
     "metadata": {},
     "output_type": "execute_result"
    },
    {
     "data": {
      "image/png": "[encoded data removed]",
      "text/plain": [
       "<Figure size 432x288 with 1 Axes>"
      ]
     },
     "metadata": {
      "needs_background": "light"
     },
     "output_type": "display_data"
    }
   ],
   "source": [
    "from sklearn.feature_extraction.text import TfidfVectorizer\n",
    "import seaborn\n",
    "corpus = ['Time flies flies like an arrow','Fruit flies like a banana']\n",
    "tfidf_vectorizer = TfidfVectorizer()\n",
    "tfidf = tfidf_vectorizer.fit_transform(corpus).toarray()\n",
    "sns.heatmap(tfidf,annot = True,cbar = False, xticklabels = 'vocab', yticklabels=['Sentence 1','Sentence 2'])"
   ]
  },
  {
   "cell_type": "code",
   "execution_count": 1,
   "metadata": {},
   "outputs": [],
   "source": [
    "def describe(x):\n",
    "    print(\"Type: {}\".format(x.type()))\n",
    "    print(\"Shape/size {}\".format(x.shape))\n",
    "    print(\"Value: \\n{}\".format(x))"
   ]
  },
  {
   "cell_type": "code",
   "execution_count": 4,
   "metadata": {},
   "outputs": [
    {
     "name": "stdout",
     "output_type": "stream",
     "text": [
      "Type: torch.FloatTensor\n",
      "Shape/size torch.Size([2, 3])\n",
      "Value: \n",
      "tensor([[2.5961e+20, 6.4592e-07, 8.2730e+20],\n",
      "        [5.3407e-08, 4.1429e-11, 7.1450e+31]])\n",
      "Type: torch.FloatTensor\n",
      "Shape/size torch.Size([2, 3])\n",
      "Value: \n",
      "tensor([[0.3530, 0.0522, 0.5238],\n",
      "        [0.3724, 0.5581, 0.2074]])\n",
      "Type: torch.FloatTensor\n",
      "Shape/size torch.Size([2, 3])\n",
      "Value: \n",
      "tensor([[-1.3537, -1.8731, -0.8703],\n",
      "        [-0.5612,  0.7015,  0.2482]])\n",
      "Type: torch.FloatTensor\n",
      "Shape/size torch.Size([2, 3])\n",
      "Value: \n",
      "tensor([[0., 0., 0.],\n",
      "        [0., 0., 0.]])\n",
      "Type: torch.FloatTensor\n",
      "Shape/size torch.Size([2, 3])\n",
      "Value: \n",
      "tensor([[1., 1., 1.],\n",
      "        [1., 1., 1.]])\n",
      "Type: torch.FloatTensor\n",
      "Shape/size torch.Size([2, 3])\n",
      "Value: \n",
      "tensor([[5., 5., 5.],\n",
      "        [5., 5., 5.]])\n"
     ]
    }
   ],
   "source": [
    "import torch\n",
    "describe(torch.Tensor(2,3))\n",
    "describe(torch.rand(2,3))\n",
    "describe(torch.randn(2,3))\n",
    "describe(torch.zeros(2,3))\n",
    "x = torch.ones(2,3)\n",
    "describe(x)\n",
    "x.fill_(5)\n",
    "describe(x)\n"
   ]
  },
  {
   "cell_type": "code",
   "execution_count": 5,
   "metadata": {},
   "outputs": [
    {
     "name": "stdout",
     "output_type": "stream",
     "text": [
      "Type: torch.FloatTensor\n",
      "Shape/size torch.Size([2, 3])\n",
      "Value: \n",
      "tensor([[1., 2., 3.],\n",
      "        [4., 5., 6.]])\n"
     ]
    }
   ],
   "source": [
    "x = torch.Tensor([[1,2,3],[4,5,6]])\n",
    "describe(x)"
   ]
  },
  {
   "cell_type": "code",
   "execution_count": 6,
   "metadata": {},
   "outputs": [
    {
     "name": "stdout",
     "output_type": "stream",
     "text": [
      "Type: torch.DoubleTensor\n",
      "Shape/size torch.Size([2, 3])\n",
      "Value: \n",
      "tensor([[0.5281, 0.4376, 0.2762],\n",
      "        [0.1301, 0.0456, 0.8128]], dtype=torch.float64)\n"
     ]
    }
   ],
   "source": [
    "import numpy as np\n",
    "npy = np.random.rand(2,3)\n",
    "describe(torch.from_numpy(npy))"
   ]
  },
  {
   "cell_type": "code",
   "execution_count": 8,
   "metadata": {},
   "outputs": [
    {
     "name": "stdout",
     "output_type": "stream",
     "text": [
      "Type: torch.FloatTensor\n",
      "Shape/size torch.Size([2])\n",
      "Value: \n",
      "tensor([2., 3.])\n",
      "Type: torch.LongTensor\n",
      "Shape/size torch.Size([2])\n",
      "Value: \n",
      "tensor([2, 3])\n",
      "Type: torch.LongTensor\n",
      "Shape/size torch.Size([2, 3])\n",
      "Value: \n",
      "tensor([[1, 2, 3],\n",
      "        [4, 5, 6]])\n"
     ]
    }
   ],
   "source": [
    "x = torch.Tensor((2,3))\n",
    "describe(x)\n",
    "x = x.long()\n",
    "describe(x)\n",
    "x = torch.tensor(([1,2,3],[4,5,6]),dtype=torch.int64)\n",
    "describe(x)\n",
    "x = x.float()\n",
    "describe(x)"
   ]
  },
  {
   "cell_type": "code",
   "execution_count": 9,
   "metadata": {},
   "outputs": [
    {
     "name": "stdout",
     "output_type": "stream",
     "text": [
      "Type: torch.FloatTensor\n",
      "Shape/size torch.Size([2, 3])\n",
      "Value: \n",
      "tensor([[-0.9550, -0.8808, -1.2161],\n",
      "        [-0.7735,  0.9676, -0.8388]])\n",
      "Type: torch.FloatTensor\n",
      "Shape/size torch.Size([2, 3])\n",
      "Value: \n",
      "tensor([[-1.9100, -1.7615, -2.4323],\n",
      "        [-1.5471,  1.9351, -1.6776]])\n",
      "Type: torch.FloatTensor\n",
      "Shape/size torch.Size([2, 3])\n",
      "Value: \n",
      "tensor([[-1.9100, -1.7615, -2.4323],\n",
      "        [-1.5471,  1.9351, -1.6776]])\n"
     ]
    }
   ],
   "source": [
    "x = torch.randn(2,3)\n",
    "describe(x)\n",
    "describe(torch.add(x,x))\n",
    "describe(x+x)"
   ]
  },
  {
   "cell_type": "code",
   "execution_count": 8,
   "metadata": {},
   "outputs": [
    {
     "name": "stdout",
     "output_type": "stream",
     "text": [
      "Type: torch.LongTensor\n",
      "Shape/size torch.Size([6])\n",
      "Value: \n",
      "tensor([0, 1, 2, 3, 4, 5])\n",
      "Type: torch.LongTensor\n",
      "Shape/size torch.Size([2, 3])\n",
      "Value: \n",
      "tensor([[0, 1, 2],\n",
      "        [3, 4, 5]])\n",
      "Type: torch.LongTensor\n",
      "Shape/size torch.Size([3])\n",
      "Value: \n",
      "tensor([3, 5, 7])\n",
      "Type: torch.LongTensor\n",
      "Shape/size torch.Size([2])\n",
      "Value: \n",
      "tensor([ 3, 12])\n",
      "Type: torch.LongTensor\n",
      "Shape/size torch.Size([3, 2])\n",
      "Value: \n",
      "tensor([[0, 3],\n",
      "        [1, 4],\n",
      "        [2, 5]])\n"
     ]
    }
   ],
   "source": [
    "import torch\n",
    "x = torch.arange(6)\n",
    "describe(x)\n",
    "x = x.view(2,3)\n",
    "describe(x)\n",
    "describe(torch.sum(x,dim=0))\n",
    "describe(torch.sum(x,dim=1))\n",
    "describe(torch.transpose(x,0,1))"
   ]
  },
  {
   "cell_type": "code",
   "execution_count": 10,
   "metadata": {},
   "outputs": [
    {
     "name": "stdout",
     "output_type": "stream",
     "text": [
      "Type: torch.LongTensor\n",
      "Shape/size torch.Size([2, 3])\n",
      "Value: \n",
      "tensor([[0, 1, 2],\n",
      "        [3, 4, 5]])\n",
      "Type: torch.LongTensor\n",
      "Shape/size torch.Size([1, 2])\n",
      "Value: \n",
      "tensor([[0, 1]])\n",
      "Type: torch.LongTensor\n",
      "Shape/size torch.Size([])\n",
      "Value: \n",
      "1\n"
     ]
    }
   ],
   "source": [
    "x = torch.arange(6).view(2,3)\n",
    "describe(x)\n",
    "\n",
    "describe(x[:1,:2])\n",
    "describe(x[0,1])"
   ]
  },
  {
   "cell_type": "code",
   "execution_count": 12,
   "metadata": {},
   "outputs": [
    {
     "name": "stdout",
     "output_type": "stream",
     "text": [
      "Type: torch.LongTensor\n",
      "Shape/size torch.Size([2, 2])\n",
      "Value: \n",
      "tensor([[0, 2],\n",
      "        [3, 5]])\n"
     ]
    }
   ],
   "source": [
    "indices = torch.LongTensor([0,2])\n",
    "describe(torch.index_select(x,dim=1,index=indices))"
   ]
  },
  {
   "cell_type": "code",
   "execution_count": 13,
   "metadata": {},
   "outputs": [
    {
     "name": "stdout",
     "output_type": "stream",
     "text": [
      "Type: torch.LongTensor\n",
      "Shape/size torch.Size([2, 3])\n",
      "Value: \n",
      "tensor([[0, 1, 2],\n",
      "        [0, 1, 2]])\n"
     ]
    }
   ],
   "source": [
    "indices = torch.LongTensor([0,0])\n",
    "describe(torch.index_select(x,dim=0,index=indices))"
   ]
  },
  {
   "cell_type": "code",
   "execution_count": 17,
   "metadata": {},
   "outputs": [
    {
     "name": "stdout",
     "output_type": "stream",
     "text": [
      "Type: torch.LongTensor\n",
      "Shape/size torch.Size([2])\n",
      "Value: \n",
      "tensor([0, 1])\n",
      "Type: torch.LongTensor\n",
      "Shape/size torch.Size([2])\n",
      "Value: \n",
      "tensor([0, 1])\n",
      "Type: torch.LongTensor\n",
      "Shape/size torch.Size([2])\n",
      "Value: \n",
      "tensor([0, 4])\n"
     ]
    }
   ],
   "source": [
    "row_indices = torch.arange(2).long()\n",
    "describe(row_indices)\n",
    "col_indices = torch.LongTensor([0,1])\n",
    "describe(col_indices)\n",
    "describe(x[row_indices,col_indices])"
   ]
  },
  {
   "cell_type": "code",
   "execution_count": 21,
   "metadata": {},
   "outputs": [
    {
     "name": "stdout",
     "output_type": "stream",
     "text": [
      "Type: torch.LongTensor\n",
      "Shape/size torch.Size([2, 3])\n",
      "Value: \n",
      "tensor([[0, 1, 2],\n",
      "        [3, 4, 5]])\n",
      "Type: torch.LongTensor\n",
      "Shape/size torch.Size([4, 3])\n",
      "Value: \n",
      "tensor([[0, 1, 2],\n",
      "        [3, 4, 5],\n",
      "        [0, 1, 2],\n",
      "        [3, 4, 5]])\n",
      "Type: torch.LongTensor\n",
      "Shape/size torch.Size([2, 6])\n",
      "Value: \n",
      "tensor([[0, 1, 2, 0, 1, 2],\n",
      "        [3, 4, 5, 3, 4, 5]])\n",
      "Type: torch.LongTensor\n",
      "Shape/size torch.Size([2, 2, 3])\n",
      "Value: \n",
      "tensor([[[0, 1, 2],\n",
      "         [3, 4, 5]],\n",
      "\n",
      "        [[0, 1, 2],\n",
      "         [3, 4, 5]]])\n"
     ]
    }
   ],
   "source": [
    "import torch\n",
    "x = torch.arange(6).view(2,3)\n",
    "describe(x)\n",
    "describe(torch.cat([x,x],dim=0))\n",
    "describe(torch.cat([x,x],dim=1))\n",
    "describe(torch.stack([x,x]))"
   ]
  },
  {
   "cell_type": "code",
   "execution_count": 23,
   "metadata": {},
   "outputs": [
    {
     "name": "stdout",
     "output_type": "stream",
     "text": [
      "Type: torch.FloatTensor\n",
      "Shape/size torch.Size([2, 3])\n",
      "Value: \n",
      "tensor([[0., 1., 2.],\n",
      "        [3., 4., 5.]])\n",
      "Type: torch.FloatTensor\n",
      "Shape/size torch.Size([3, 2])\n",
      "Value: \n",
      "tensor([[1., 2.],\n",
      "        [1., 2.],\n",
      "        [1., 2.]])\n",
      "Type: torch.FloatTensor\n",
      "Shape/size torch.Size([2, 2])\n",
      "Value: \n",
      "tensor([[ 3.,  6.],\n",
      "        [12., 24.]])\n"
     ]
    }
   ],
   "source": [
    "import torch\n",
    "x1 = torch.arange(6).view(2,3).float()\n",
    "describe(x1)\n",
    "\n",
    "x2 = torch.ones(3,2)\n",
    "x2[:,1] += 1\n",
    "describe(x2)\n",
    "\n",
    "describe(torch.mm(x1,x2))"
   ]
  },
  {
   "cell_type": "code",
   "execution_count": 24,
   "metadata": {},
   "outputs": [
    {
     "name": "stdout",
     "output_type": "stream",
     "text": [
      "Type: torch.FloatTensor\n",
      "Shape/size torch.Size([2, 2])\n",
      "Value: \n",
      "tensor([[1., 1.],\n",
      "        [1., 1.]], requires_grad=True)\n",
      "True\n",
      "Type: torch.FloatTensor\n",
      "Shape/size torch.Size([2, 2])\n",
      "Value: \n",
      "tensor([[21., 21.],\n",
      "        [21., 21.]], grad_fn=<AddBackward0>)\n",
      "True\n",
      "Type: torch.FloatTensor\n",
      "Shape/size torch.Size([])\n",
      "Value: \n",
      "21.0\n",
      "False\n"
     ]
    }
   ],
   "source": [
    "import torch\n",
    "x = torch.ones(2,2,requires_grad=True)\n",
    "describe(x)\n",
    "print(x.grad is None)\n",
    "\n",
    "y = (x + 2) * ( x + 5 ) + 3\n",
    "describe(y)\n",
    "print(x.grad is None)\n",
    "\n",
    "z = y.mean()\n",
    "describe(z)\n",
    "z.backward()\n",
    "print(x.grad is None)"
   ]
  }
 ],
 "metadata": {
  "interpreter": {
   "hash": "bbcfab25aca44efc94327c358633b06763d7d1ff3b6eda80956186e9f6f95138"
  },
  "kernelspec": {
   "display_name": "Python 3.8.3 64-bit",
   "language": "python",
   "name": "python3"
  },
  "language_info": {
   "codemirror_mode": {
    "name": "ipython",
    "version": 3
   },
   "file_extension": ".py",
   "mimetype": "text/x-python",
   "name": "python",
   "nbconvert_exporter": "python",
   "pygments_lexer": "ipython3",
   "version": "3.8.3"
  },
  "orig_nbformat": 4
 },
 "nbformat": 4,
 "nbformat_minor": 2
}
