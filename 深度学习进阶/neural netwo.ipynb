{
 "cells": [
  {
   "cell_type": "code",
   "execution_count": 26,
   "metadata": {},
   "outputs": [],
   "source": [
    "import numpy as np"
   ]
  },
  {
   "cell_type": "code",
   "execution_count": 27,
   "metadata": {},
   "outputs": [],
   "source": [
    "class Sigmoid:\n",
    "    def __init__(self):\n",
    "        self.params = []\n",
    "\n",
    "    def forward(self,x):\n",
    "        return 1 / (1 + np.exp(-x))"
   ]
  },
  {
   "cell_type": "code",
   "execution_count": 28,
   "metadata": {},
   "outputs": [],
   "source": [
    "class Affine:\n",
    "    def __init__(self,W,b):\n",
    "        self.params = [W,b]\n",
    "    def forward(self,x):\n",
    "        W,b = self.params\n",
    "        out = np.dot(x,W) + b\n",
    "        return out        "
   ]
  },
  {
   "cell_type": "code",
   "execution_count": 29,
   "metadata": {},
   "outputs": [],
   "source": [
    "class TwoLayerNet:\n",
    "    def __init__(self, input_size,hidden_size, output_size):\n",
    "        I, H, O = input_size, hidden_size, output_size\n",
    "\n",
    "\n",
    "        W1 = np.random.randn(I,H)\n",
    "        b1 = np.random.randn(H)\n",
    "        W2 = np.random.randn(H,O)\n",
    "        b2 = np.random.randn(O)\n",
    "\n",
    "        self.layers = [Affine(W1,b1),Sigmoid(),Affine(W2,b2)]\n",
    "\n",
    "        self.params = []\n",
    "\n",
    "        for layer in self.layers:\n",
    "            self.params += layer.params\n",
    "    \n",
    "    def predict(self,x):\n",
    "        for layer in self.layers:\n",
    "            x = layer.forward(x)\n",
    "        return x        "
   ]
  },
  {
   "cell_type": "code",
   "execution_count": null,
   "metadata": {},
   "outputs": [],
   "source": [
    "class SoftmaxWithLoss:\n",
    "    def __init__(self):\n",
    "        self.params, self.grads = [], []\n",
    "        self.y = None  # softmax的输出\n",
    "        self.t = None  # 监督标签\n",
    "\n",
    "    def forward(self, x, t):\n",
    "        self.t = t\n",
    "        self.y = softmax(x)\n",
    "\n",
    "        # 在监督标签为one-hot向量的情况下，转换为正确解标签的索引\n",
    "        if self.t.size == self.y.size:\n",
    "            self.t = self.t.argmax(axis=1)\n",
    "\n",
    "        loss = cross_entropy_error(self.y, self.t)\n",
    "        return loss\n",
    "\n",
    "    def backward(self, dout=1):\n",
    "        batch_size = self.t.shape[0]\n",
    "\n",
    "        dx = self.y.copy()\n",
    "        dx[np.arange(batch_size), self.t] -= 1\n",
    "        dx *= dout\n",
    "        dx = dx / batch_size\n",
    "\n",
    "        return dx\n",
    "        "
   ]
  },
  {
   "cell_type": "code",
   "execution_count": 30,
   "metadata": {},
   "outputs": [
    {
     "name": "stdout",
     "output_type": "stream",
     "text": [
      "[[-0.43233549 -0.18615193  0.99053962]\n",
      " [-0.19548861 -0.57392097  0.63942174]\n",
      " [ 0.52692237 -1.60062421 -0.47600719]\n",
      " [-0.19372425 -1.02988556  0.22311118]\n",
      " [-0.7920157   0.35031837  1.67638641]\n",
      " [-0.06862412 -0.90219744  0.33671566]\n",
      " [ 0.07386951 -1.44454041 -0.12969549]\n",
      " [-0.06644118 -0.62083292  0.55846856]\n",
      " [ 0.11202842 -0.62610021  0.49719985]\n",
      " [-0.58219685 -0.07263958  1.2628158 ]]\n"
     ]
    }
   ],
   "source": [
    "if __name__ == '__main__':\n",
    "    x = np.random.randn(10,2)\n",
    "    model = TwoLayerNet(2,4,3)\n",
    "    s = model.predict(x)\n",
    "    print(s)\n",
    "    "
   ]
  }
 ],
 "metadata": {
  "interpreter": {
   "hash": "bbcfab25aca44efc94327c358633b06763d7d1ff3b6eda80956186e9f6f95138"
  },
  "kernelspec": {
   "display_name": "Python 3.8.3 64-bit",
   "language": "python",
   "name": "python3"
  },
  "language_info": {
   "codemirror_mode": {
    "name": "ipython",
    "version": 3
   },
   "file_extension": ".py",
   "mimetype": "text/x-python",
   "name": "python",
   "nbconvert_exporter": "python",
   "pygments_lexer": "ipython3",
   "version": "3.8.3"
  },
  "orig_nbformat": 4
 },
 "nbformat": 4,
 "nbformat_minor": 2
}
