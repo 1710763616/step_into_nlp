{
 "cells": [
  {
   "cell_type": "markdown",
   "metadata": {},
   "source": [
    "seq2seq的问题\n",
    "- 无论语句多长都被塞入同一长度的向量中-> 使用全部编码器隐状态  \n",
    "Attention\n",
    "- 找出与翻译目标词有对应关系的翻译原词 \n",
    "- 使用各单词重要度a和各隐状态hs计算上下文向量c\n",
    "- 使用解码器隐状态h和hs计算内积并softmax得a  \n",
    "双向RNN\n"
   ]
  }
 ],
 "metadata": {
  "language_info": {
   "name": "python"
  },
  "orig_nbformat": 4
 },
 "nbformat": 4,
 "nbformat_minor": 2
}
