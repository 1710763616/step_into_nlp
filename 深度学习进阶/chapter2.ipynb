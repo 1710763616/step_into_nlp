{
 "cells": [
  {
   "cell_type": "markdown",
   "metadata": {},
   "source": [
    "同义词典\n",
    "- 难以顺应时代变化\n",
    "- 人力成本高\n",
    "- 无法表示单词的微妙差异\n",
    "\n",
    "基于计数的方法\n",
    "- 单词的分布式表示：某个单词的含义由他周围的单词形成\n",
    "- 共现矩阵\n",
    "- 点互信息\n",
    "$PMI(x,y)=\\log\\frac{P(x,y)}{P(x)P(y)}=\\log\\frac{C(x,y)\\cdot N}{C(x)C(y)} $ \n",
    "- 降维：奇异值分解 $X = USV^T$ U:基向量构成的矩阵 S:奇异值在对角线降序排列的的对角矩阵"
   ]
  }
 ],
 "metadata": {
  "language_info": {
   "name": "python"
  },
  "orig_nbformat": 4
 },
 "nbformat": 4,
 "nbformat_minor": 2
}
