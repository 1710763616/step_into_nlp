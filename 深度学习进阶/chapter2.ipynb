{
 "cells": [
  {
   "cell_type": "markdown",
   "metadata": {},
   "source": [
    "同义词典\n",
    "- 难以顺应时代变化\n",
    "- 人力成本高\n",
    "- 无法表示单词的微妙差异\n",
    "\n",
    "基于计数的方法\n",
    "- 单词的分布式表示：某个单词的含义由他周围的单词形成\n",
    "- 共现矩阵\n"
   ]
  }
 ],
 "metadata": {
  "language_info": {
   "name": "python"
  },
  "orig_nbformat": 4
 },
 "nbformat": 4,
 "nbformat_minor": 2
}
