{
 "cells": [
  {
   "cell_type": "markdown",
   "metadata": {},
   "source": [
    "概率性选择生成的词  \n",
    "seq2seq\n",
    "- 编码器解码器\n",
    "- 反转输入数据\n",
    "- 将编码器的隐状态分给解码器各层"
   ]
  }
 ],
 "metadata": {
  "language_info": {
   "name": "python"
  },
  "orig_nbformat": 4
 },
 "nbformat": 4,
 "nbformat_minor": 2
}
